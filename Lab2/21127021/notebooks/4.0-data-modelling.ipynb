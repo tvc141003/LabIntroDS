{
 "cells": [
  {
   "cell_type": "markdown",
   "metadata": {},
   "source": [
    "<div style=\"text-align: center; background-color: #559cff; font-family: 'Trebuchet MS', Arial, sans-serif; color: white; padding: 20px; font-size: 40px; font-weight: bold; border-radius: 0 0 0 0; box-shadow: 0px 6px 8px rgba(0, 0, 0, 0.2);\">\n",
    "  Lab 02 - Introduction To Data Science @ FIT-HCMUS, VNU-HCM 📌\n",
    "</div>"
   ]
  },
  {
   "cell_type": "markdown",
   "metadata": {},
   "source": [
    "<div style=\"text-align: center; background-color: #b1d1ff; font-family: 'Trebuchet MS', Arial, sans-serif; color: white; padding: 20px; font-size: 40px; font-weight: bold; border-radius: 0 0 0 0; box-shadow: 0px 6px 8px rgba(0, 0, 0, 0.2);\">\n",
    "  Stage 4.0 - Data modelling\n",
    "</div>"
   ]
  },
  {
   "cell_type": "markdown",
   "metadata": {},
   "source": [
    "This section for bouns, you might need to use some basic Machine Learning algorithms to answer some questions that in cases of regression, and classification. In this scope of this subject, highly recommend you use `scikit-learn` (instead of implement once again these algorithms)"
   ]
  },
  {
   "cell_type": "markdown",
   "metadata": {},
   "source": [
    "## Import"
   ]
  },
  {
   "cell_type": "code",
   "execution_count": 1,
   "metadata": {},
   "outputs": [],
   "source": [
    "# YOUR CODE HERE (OPTION) \n",
    "# If you need other libraries, you can import them here\n",
    "import numpy as np\n",
    "import pandas as pd\n",
    "import matplotlib.pyplot as plt\n",
    "%matplotlib inline\n",
    "from sklearn.linear_model import LinearRegression"
   ]
  },
  {
   "cell_type": "markdown",
   "metadata": {},
   "source": [
    "## Mô hình Logistic Regression dự đoán dân số châu Âu trong tương lai"
   ]
  },
  {
   "cell_type": "markdown",
   "metadata": {},
   "source": [
    "## Data preparation"
   ]
  },
  {
   "cell_type": "code",
   "execution_count": 2,
   "metadata": {},
   "outputs": [],
   "source": [
    "# YOUR CODE HERE (OPTION) \n",
    "cleaned_df = pd.read_csv(\"../data/processed/21127021_europe_processed.csv\")"
   ]
  },
  {
   "cell_type": "code",
   "execution_count": 3,
   "metadata": {},
   "outputs": [
    {
     "data": {
      "text/html": [
       "<div>\n",
       "<style scoped>\n",
       "    .dataframe tbody tr th:only-of-type {\n",
       "        vertical-align: middle;\n",
       "    }\n",
       "\n",
       "    .dataframe tbody tr th {\n",
       "        vertical-align: top;\n",
       "    }\n",
       "\n",
       "    .dataframe thead th {\n",
       "        text-align: right;\n",
       "    }\n",
       "</style>\n",
       "<table border=\"1\" class=\"dataframe\">\n",
       "  <thead>\n",
       "    <tr style=\"text-align: right;\">\n",
       "      <th></th>\n",
       "      <th>Total Population</th>\n",
       "      <th>Female Population</th>\n",
       "      <th>Male Population</th>\n",
       "      <th>Birth Rate</th>\n",
       "      <th>Death Rate</th>\n",
       "      <th>Compulsory Education Dur.</th>\n",
       "      <th>Employment in Industry(%)</th>\n",
       "      <th>Employment in Agriculture(%)</th>\n",
       "      <th>Female Employment in Agriculture(%)</th>\n",
       "      <th>Female Employment in Industry(%)</th>\n",
       "      <th>...</th>\n",
       "      <th>Electric Power Consumption(kWH per capita)</th>\n",
       "      <th>Renewable Energy Consumption (%)</th>\n",
       "      <th>Fossil Fuel Consumption (%)</th>\n",
       "      <th>Male life expectancy</th>\n",
       "      <th>Female life expectancy</th>\n",
       "      <th>School enrollment, primary</th>\n",
       "      <th>School enrollment, tertiary</th>\n",
       "      <th>Primary completion rate</th>\n",
       "      <th>Year</th>\n",
       "      <th>Country</th>\n",
       "    </tr>\n",
       "  </thead>\n",
       "  <tbody>\n",
       "    <tr>\n",
       "      <th>0</th>\n",
       "      <td>2775634.0</td>\n",
       "      <td>1391086.0</td>\n",
       "      <td>1384548.0</td>\n",
       "      <td>10.813117</td>\n",
       "      <td>10.096538</td>\n",
       "      <td>9.0</td>\n",
       "      <td>26.361868</td>\n",
       "      <td>9.386339</td>\n",
       "      <td>8.456056</td>\n",
       "      <td>15.410524</td>\n",
       "      <td>...</td>\n",
       "      <td>7131.404452</td>\n",
       "      <td>19.002727</td>\n",
       "      <td>73.712777</td>\n",
       "      <td>74.398198</td>\n",
       "      <td>80.747814</td>\n",
       "      <td>95.606712</td>\n",
       "      <td>62.731991</td>\n",
       "      <td>97.748993</td>\n",
       "      <td>2022</td>\n",
       "      <td>Albania</td>\n",
       "    </tr>\n",
       "    <tr>\n",
       "      <th>1</th>\n",
       "      <td>2811666.0</td>\n",
       "      <td>1407212.0</td>\n",
       "      <td>1404454.0</td>\n",
       "      <td>10.240000</td>\n",
       "      <td>11.325000</td>\n",
       "      <td>9.0</td>\n",
       "      <td>21.562780</td>\n",
       "      <td>34.618040</td>\n",
       "      <td>39.186390</td>\n",
       "      <td>17.459200</td>\n",
       "      <td>...</td>\n",
       "      <td>7131.404452</td>\n",
       "      <td>19.002727</td>\n",
       "      <td>73.712777</td>\n",
       "      <td>74.087000</td>\n",
       "      <td>79.173000</td>\n",
       "      <td>97.604950</td>\n",
       "      <td>60.317581</td>\n",
       "      <td>98.223259</td>\n",
       "      <td>2021</td>\n",
       "      <td>Albania</td>\n",
       "    </tr>\n",
       "    <tr>\n",
       "      <th>2</th>\n",
       "      <td>2837849.0</td>\n",
       "      <td>1418585.0</td>\n",
       "      <td>1419264.0</td>\n",
       "      <td>10.285000</td>\n",
       "      <td>10.785000</td>\n",
       "      <td>9.0</td>\n",
       "      <td>20.781540</td>\n",
       "      <td>35.541970</td>\n",
       "      <td>40.169250</td>\n",
       "      <td>16.812830</td>\n",
       "      <td>...</td>\n",
       "      <td>7131.404452</td>\n",
       "      <td>44.580000</td>\n",
       "      <td>73.712777</td>\n",
       "      <td>74.632000</td>\n",
       "      <td>79.676000</td>\n",
       "      <td>100.613602</td>\n",
       "      <td>61.392578</td>\n",
       "      <td>99.468590</td>\n",
       "      <td>2020</td>\n",
       "      <td>Albania</td>\n",
       "    </tr>\n",
       "    <tr>\n",
       "      <th>3</th>\n",
       "      <td>2854191.0</td>\n",
       "      <td>1425363.0</td>\n",
       "      <td>1428828.0</td>\n",
       "      <td>10.343000</td>\n",
       "      <td>8.480000</td>\n",
       "      <td>9.0</td>\n",
       "      <td>20.150670</td>\n",
       "      <td>36.416850</td>\n",
       "      <td>41.600220</td>\n",
       "      <td>16.203900</td>\n",
       "      <td>...</td>\n",
       "      <td>7131.404452</td>\n",
       "      <td>40.110000</td>\n",
       "      <td>73.712777</td>\n",
       "      <td>77.168000</td>\n",
       "      <td>81.666000</td>\n",
       "      <td>104.310257</td>\n",
       "      <td>62.076092</td>\n",
       "      <td>101.720718</td>\n",
       "      <td>2019</td>\n",
       "      <td>Albania</td>\n",
       "    </tr>\n",
       "    <tr>\n",
       "      <th>4</th>\n",
       "      <td>2866376.0</td>\n",
       "      <td>1430495.0</td>\n",
       "      <td>1435881.0</td>\n",
       "      <td>10.517000</td>\n",
       "      <td>8.308000</td>\n",
       "      <td>9.0</td>\n",
       "      <td>19.745660</td>\n",
       "      <td>37.285730</td>\n",
       "      <td>42.271740</td>\n",
       "      <td>15.573180</td>\n",
       "      <td>...</td>\n",
       "      <td>7131.404452</td>\n",
       "      <td>37.830000</td>\n",
       "      <td>73.712777</td>\n",
       "      <td>77.037000</td>\n",
       "      <td>81.608000</td>\n",
       "      <td>107.403679</td>\n",
       "      <td>56.608871</td>\n",
       "      <td>105.708557</td>\n",
       "      <td>2018</td>\n",
       "      <td>Albania</td>\n",
       "    </tr>\n",
       "  </tbody>\n",
       "</table>\n",
       "<p>5 rows × 25 columns</p>\n",
       "</div>"
      ],
      "text/plain": [
       "   Total Population  Female Population  Male Population  Birth Rate  \\\n",
       "0         2775634.0          1391086.0        1384548.0   10.813117   \n",
       "1         2811666.0          1407212.0        1404454.0   10.240000   \n",
       "2         2837849.0          1418585.0        1419264.0   10.285000   \n",
       "3         2854191.0          1425363.0        1428828.0   10.343000   \n",
       "4         2866376.0          1430495.0        1435881.0   10.517000   \n",
       "\n",
       "   Death Rate  Compulsory Education Dur.  Employment in Industry(%)  \\\n",
       "0   10.096538                        9.0                  26.361868   \n",
       "1   11.325000                        9.0                  21.562780   \n",
       "2   10.785000                        9.0                  20.781540   \n",
       "3    8.480000                        9.0                  20.150670   \n",
       "4    8.308000                        9.0                  19.745660   \n",
       "\n",
       "   Employment in Agriculture(%)  Female Employment in Agriculture(%)  \\\n",
       "0                      9.386339                             8.456056   \n",
       "1                     34.618040                            39.186390   \n",
       "2                     35.541970                            40.169250   \n",
       "3                     36.416850                            41.600220   \n",
       "4                     37.285730                            42.271740   \n",
       "\n",
       "   Female Employment in Industry(%)  ...  \\\n",
       "0                         15.410524  ...   \n",
       "1                         17.459200  ...   \n",
       "2                         16.812830  ...   \n",
       "3                         16.203900  ...   \n",
       "4                         15.573180  ...   \n",
       "\n",
       "   Electric Power Consumption(kWH per capita)  \\\n",
       "0                                 7131.404452   \n",
       "1                                 7131.404452   \n",
       "2                                 7131.404452   \n",
       "3                                 7131.404452   \n",
       "4                                 7131.404452   \n",
       "\n",
       "   Renewable Energy Consumption (%)  Fossil Fuel Consumption (%)  \\\n",
       "0                         19.002727                    73.712777   \n",
       "1                         19.002727                    73.712777   \n",
       "2                         44.580000                    73.712777   \n",
       "3                         40.110000                    73.712777   \n",
       "4                         37.830000                    73.712777   \n",
       "\n",
       "   Male life expectancy  Female life expectancy   School enrollment, primary  \\\n",
       "0             74.398198                80.747814                   95.606712   \n",
       "1             74.087000                79.173000                   97.604950   \n",
       "2             74.632000                79.676000                  100.613602   \n",
       "3             77.168000                81.666000                  104.310257   \n",
       "4             77.037000                81.608000                  107.403679   \n",
       "\n",
       "   School enrollment, tertiary  Primary completion rate  Year  Country  \n",
       "0                    62.731991                97.748993  2022  Albania  \n",
       "1                    60.317581                98.223259  2021  Albania  \n",
       "2                    61.392578                99.468590  2020  Albania  \n",
       "3                    62.076092               101.720718  2019  Albania  \n",
       "4                    56.608871               105.708557  2018  Albania  \n",
       "\n",
       "[5 rows x 25 columns]"
      ]
     },
     "execution_count": 3,
     "metadata": {},
     "output_type": "execute_result"
    }
   ],
   "source": [
    "cleaned_df.head()"
   ]
  },
  {
   "cell_type": "markdown",
   "metadata": {},
   "source": [
    "## Feature engineering"
   ]
  },
  {
   "cell_type": "code",
   "execution_count": 4,
   "metadata": {},
   "outputs": [
    {
     "data": {
      "text/html": [
       "<div>\n",
       "<style scoped>\n",
       "    .dataframe tbody tr th:only-of-type {\n",
       "        vertical-align: middle;\n",
       "    }\n",
       "\n",
       "    .dataframe tbody tr th {\n",
       "        vertical-align: top;\n",
       "    }\n",
       "\n",
       "    .dataframe thead th {\n",
       "        text-align: right;\n",
       "    }\n",
       "</style>\n",
       "<table border=\"1\" class=\"dataframe\">\n",
       "  <thead>\n",
       "    <tr style=\"text-align: right;\">\n",
       "      <th></th>\n",
       "      <th>Total Europe Population</th>\n",
       "      <th>Year</th>\n",
       "    </tr>\n",
       "  </thead>\n",
       "  <tbody>\n",
       "    <tr>\n",
       "      <th>0</th>\n",
       "      <td>546092400.0</td>\n",
       "      <td>1995</td>\n",
       "    </tr>\n",
       "    <tr>\n",
       "      <th>1</th>\n",
       "      <td>546691513.0</td>\n",
       "      <td>1996</td>\n",
       "    </tr>\n",
       "    <tr>\n",
       "      <th>2</th>\n",
       "      <td>547182865.0</td>\n",
       "      <td>1997</td>\n",
       "    </tr>\n",
       "    <tr>\n",
       "      <th>3</th>\n",
       "      <td>547568671.0</td>\n",
       "      <td>1998</td>\n",
       "    </tr>\n",
       "    <tr>\n",
       "      <th>4</th>\n",
       "      <td>548065465.0</td>\n",
       "      <td>1999</td>\n",
       "    </tr>\n",
       "  </tbody>\n",
       "</table>\n",
       "</div>"
      ],
      "text/plain": [
       "   Total Europe Population  Year\n",
       "0              546092400.0  1995\n",
       "1              546691513.0  1996\n",
       "2              547182865.0  1997\n",
       "3              547568671.0  1998\n",
       "4              548065465.0  1999"
      ]
     },
     "execution_count": 4,
     "metadata": {},
     "output_type": "execute_result"
    }
   ],
   "source": [
    "# YOUR CODE HERE (OPTION) \n",
    "data = pd.DataFrame()\n",
    "data['Total Europe Population'] = cleaned_df.groupby('Year')['Total Population'].sum()\n",
    "data['Year'] = data.index\n",
    "data.reset_index(inplace=True, drop=True)\n",
    "data.head()"
   ]
  },
  {
   "cell_type": "code",
   "execution_count": 5,
   "metadata": {},
   "outputs": [],
   "source": [
    "y, X = data['Total Europe Population'].to_numpy(), data['Year'].to_numpy()\n",
    "X = X.reshape(1, -1).T"
   ]
  },
  {
   "cell_type": "markdown",
   "metadata": {},
   "source": [
    "## Training model"
   ]
  },
  {
   "cell_type": "code",
   "execution_count": 6,
   "metadata": {},
   "outputs": [
    {
     "data": {
      "text/html": [
       "<style>#sk-container-id-1 {color: black;}#sk-container-id-1 pre{padding: 0;}#sk-container-id-1 div.sk-toggleable {background-color: white;}#sk-container-id-1 label.sk-toggleable__label {cursor: pointer;display: block;width: 100%;margin-bottom: 0;padding: 0.3em;box-sizing: border-box;text-align: center;}#sk-container-id-1 label.sk-toggleable__label-arrow:before {content: \"▸\";float: left;margin-right: 0.25em;color: #696969;}#sk-container-id-1 label.sk-toggleable__label-arrow:hover:before {color: black;}#sk-container-id-1 div.sk-estimator:hover label.sk-toggleable__label-arrow:before {color: black;}#sk-container-id-1 div.sk-toggleable__content {max-height: 0;max-width: 0;overflow: hidden;text-align: left;background-color: #f0f8ff;}#sk-container-id-1 div.sk-toggleable__content pre {margin: 0.2em;color: black;border-radius: 0.25em;background-color: #f0f8ff;}#sk-container-id-1 input.sk-toggleable__control:checked~div.sk-toggleable__content {max-height: 200px;max-width: 100%;overflow: auto;}#sk-container-id-1 input.sk-toggleable__control:checked~label.sk-toggleable__label-arrow:before {content: \"▾\";}#sk-container-id-1 div.sk-estimator input.sk-toggleable__control:checked~label.sk-toggleable__label {background-color: #d4ebff;}#sk-container-id-1 div.sk-label input.sk-toggleable__control:checked~label.sk-toggleable__label {background-color: #d4ebff;}#sk-container-id-1 input.sk-hidden--visually {border: 0;clip: rect(1px 1px 1px 1px);clip: rect(1px, 1px, 1px, 1px);height: 1px;margin: -1px;overflow: hidden;padding: 0;position: absolute;width: 1px;}#sk-container-id-1 div.sk-estimator {font-family: monospace;background-color: #f0f8ff;border: 1px dotted black;border-radius: 0.25em;box-sizing: border-box;margin-bottom: 0.5em;}#sk-container-id-1 div.sk-estimator:hover {background-color: #d4ebff;}#sk-container-id-1 div.sk-parallel-item::after {content: \"\";width: 100%;border-bottom: 1px solid gray;flex-grow: 1;}#sk-container-id-1 div.sk-label:hover label.sk-toggleable__label {background-color: #d4ebff;}#sk-container-id-1 div.sk-serial::before {content: \"\";position: absolute;border-left: 1px solid gray;box-sizing: border-box;top: 0;bottom: 0;left: 50%;z-index: 0;}#sk-container-id-1 div.sk-serial {display: flex;flex-direction: column;align-items: center;background-color: white;padding-right: 0.2em;padding-left: 0.2em;position: relative;}#sk-container-id-1 div.sk-item {position: relative;z-index: 1;}#sk-container-id-1 div.sk-parallel {display: flex;align-items: stretch;justify-content: center;background-color: white;position: relative;}#sk-container-id-1 div.sk-item::before, #sk-container-id-1 div.sk-parallel-item::before {content: \"\";position: absolute;border-left: 1px solid gray;box-sizing: border-box;top: 0;bottom: 0;left: 50%;z-index: -1;}#sk-container-id-1 div.sk-parallel-item {display: flex;flex-direction: column;z-index: 1;position: relative;background-color: white;}#sk-container-id-1 div.sk-parallel-item:first-child::after {align-self: flex-end;width: 50%;}#sk-container-id-1 div.sk-parallel-item:last-child::after {align-self: flex-start;width: 50%;}#sk-container-id-1 div.sk-parallel-item:only-child::after {width: 0;}#sk-container-id-1 div.sk-dashed-wrapped {border: 1px dashed gray;margin: 0 0.4em 0.5em 0.4em;box-sizing: border-box;padding-bottom: 0.4em;background-color: white;}#sk-container-id-1 div.sk-label label {font-family: monospace;font-weight: bold;display: inline-block;line-height: 1.2em;}#sk-container-id-1 div.sk-label-container {text-align: center;}#sk-container-id-1 div.sk-container {/* jupyter's `normalize.less` sets `[hidden] { display: none; }` but bootstrap.min.css set `[hidden] { display: none !important; }` so we also need the `!important` here to be able to override the default hidden behavior on the sphinx rendered scikit-learn.org. See: https://github.com/scikit-learn/scikit-learn/issues/21755 */display: inline-block !important;position: relative;}#sk-container-id-1 div.sk-text-repr-fallback {display: none;}</style><div id=\"sk-container-id-1\" class=\"sk-top-container\"><div class=\"sk-text-repr-fallback\"><pre>LinearRegression()</pre><b>In a Jupyter environment, please rerun this cell to show the HTML representation or trust the notebook. <br />On GitHub, the HTML representation is unable to render, please try loading this page with nbviewer.org.</b></div><div class=\"sk-container\" hidden><div class=\"sk-item\"><div class=\"sk-estimator sk-toggleable\"><input class=\"sk-toggleable__control sk-hidden--visually\" id=\"sk-estimator-id-1\" type=\"checkbox\" checked><label for=\"sk-estimator-id-1\" class=\"sk-toggleable__label sk-toggleable__label-arrow\">LinearRegression</label><div class=\"sk-toggleable__content\"><pre>LinearRegression()</pre></div></div></div></div></div>"
      ],
      "text/plain": [
       "LinearRegression()"
      ]
     },
     "execution_count": 6,
     "metadata": {},
     "output_type": "execute_result"
    }
   ],
   "source": [
    "# YOUR CODE HERE (OPTION) \n",
    "clf = LinearRegression()\n",
    "clf.fit(X, y)"
   ]
  },
  {
   "cell_type": "markdown",
   "metadata": {},
   "source": [
    "## Evaluation"
   ]
  },
  {
   "cell_type": "code",
   "execution_count": 7,
   "metadata": {},
   "outputs": [
    {
     "data": {
      "text/plain": [
       "0.9555500032725578"
      ]
     },
     "execution_count": 7,
     "metadata": {},
     "output_type": "execute_result"
    }
   ],
   "source": [
    "# YOUR CODE HERE (OPTION) \n",
    "clf.score(X, y)"
   ]
  },
  {
   "cell_type": "markdown",
   "metadata": {},
   "source": [
    "## Prediction"
   ]
  },
  {
   "cell_type": "code",
   "execution_count": 8,
   "metadata": {},
   "outputs": [],
   "source": [
    "# YOUR CODE HERE (OPTION) \n",
    "x_predict = np.linspace(2023, 2035, num = 2035-2023+1, dtype=int)\n",
    "x_predict = x_predict.reshape(1, -1).T"
   ]
  },
  {
   "cell_type": "code",
   "execution_count": 9,
   "metadata": {},
   "outputs": [
    {
     "data": {
      "text/plain": [
       "array([5.76119010e+08, 5.77252448e+08, 5.78385885e+08, 5.79519322e+08,\n",
       "       5.80652760e+08, 5.81786197e+08, 5.82919634e+08, 5.84053072e+08,\n",
       "       5.85186509e+08, 5.86319946e+08, 5.87453383e+08, 5.88586821e+08,\n",
       "       5.89720258e+08])"
      ]
     },
     "execution_count": 9,
     "metadata": {},
     "output_type": "execute_result"
    }
   ],
   "source": [
    "y_predict = clf.predict(x_predict)\n",
    "y_predict"
   ]
  },
  {
   "cell_type": "markdown",
   "metadata": {},
   "source": [
    "## Results analysis"
   ]
  },
  {
   "cell_type": "code",
   "execution_count": 10,
   "metadata": {},
   "outputs": [
    {
     "data": {
      "image/png": "[encoded data removed]",
      "text/plain": [
       "<Figure size 1000x700 with 1 Axes>"
      ]
     },
     "metadata": {},
     "output_type": "display_data"
    }
   ],
   "source": [
    "# YOUR CODE HERE (OPTION) \n",
    "fig, ax = plt.subplots(figsize=(10, 7))\n",
    "\n",
    "fig.suptitle('Visualize result')\n",
    "fig.supxlabel('Year')\n",
    "fig.supylabel(\"Total Population\")\n",
    "ax.scatter(X, y)\n",
    "ax.scatter(x_predict, y_predict)\n",
    "\n",
    "# line regression\n",
    "x_line = np.linspace(1995, 2035, num = 30, dtype = int)\n",
    "y_line = clf.predict(x_line.reshape(1, -1).T)\n",
    "ax.plot(x_line, y_line, color = 'red')\n",
    "plt.show()"
   ]
  },
  {
   "cell_type": "markdown",
   "metadata": {},
   "source": [
    "### Nhận xét\n",
    "Theo mô hình linear regression trên ta thu được mô hình đạt điểm tin cậy khá cao với 0,95."
   ]
  },
  {
   "cell_type": "markdown",
   "metadata": {},
   "source": [
    "## Conclusion"
   ]
  },
  {
   "cell_type": "markdown",
   "metadata": {},
   "source": [
    "**Your conclusion**\n",
    "Mô hình linear regresstion cho ta dự đoán về dân số tương lai của châu Âu sẽ tăng chậm trong tương lai. Dự đoán tới năm 2035 dân số châu Âu sẽ gần chạm mức 590 triệu dân và có thể tiếp tục tăng theo mô hình."
   ]
  }
 ],
 "metadata": {
  "kernelspec": {
   "display_name": "Python 3",
   "language": "python",
   "name": "python3"
  },
  "language_info": {
   "codemirror_mode": {
    "name": "ipython",
    "version": 3
   },
   "file_extension": ".py",
   "mimetype": "text/x-python",
   "name": "python",
   "nbconvert_exporter": "python",
   "pygments_lexer": "ipython3",
   "version": "3.11.1"
  }
 },
 "nbformat": 4,
 "nbformat_minor": 2
}
